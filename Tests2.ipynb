{
 "cells": [
  {
   "cell_type": "code",
   "execution_count": 1,
   "metadata": {},
   "outputs": [
    {
     "name": "stdout",
     "output_type": "stream",
     "text": [
      "[ 0.9909521   0.13421597 -0.28143481] -0.03751904041149873 False {}\n",
      "[ 0.99212474  0.12525375 -0.18077283] -0.026043701712562442 False {}\n",
      "[ 0.99265919  0.12094515 -0.08683252] -0.019039120785019993 False {}\n",
      "[0.99263573 0.12113754 0.00387635] -0.01545360347884343 False {}\n",
      "[0.99205083 0.12583776 0.0947295 ] -0.014748152640962709 False {}\n",
      "[0.99081666 0.13521223 0.18910783] -0.016816807315905458 False {}\n",
      "[0.98874813 0.14958991 0.290517  ] -0.02197103701868538 False {}\n",
      "[0.98553584 0.16946715 0.40270943] -0.0309860866045161 False {}\n",
      "[0.98070132 0.19551197 0.52980979] -0.045215822694480746 False {}\n",
      "[0.97352906 0.22856329 0.67644376] -0.06679199825690438 False {}\n"
     ]
    },
    {
     "name": "stderr",
     "output_type": "stream",
     "text": [
      "/home/postdoc/holee/.local/lib/python3.6/site-packages/gym/logger.py:30: UserWarning: \u001b[33mWARN: Box bound precision lowered by casting to float32\u001b[0m\n",
      "  warnings.warn(colorize('%s: %s'%('WARN', msg % args), 'yellow'))\n"
     ]
    }
   ],
   "source": [
    "import sys\n",
    "from lib.restartable_pendulum import RestartablePendulumEnv\n",
    "from lib import state_rep_torch as srt\n",
    "import gym\n",
    "import numpy as np\n",
    "from matplotlib import pyplot as plt\n",
    "import torch\n",
    "from lib import utils\n",
    "from lib import encoder_wrappers as ew\n",
    "\n",
    "# specify environment information\n",
    "n_repeats = 1 # step the environment this many times for each action, concatenate the pixel observations\n",
    "env = RestartablePendulumEnv(repeats=n_repeats,pixels=False)\n",
    "\n",
    "for t in range(10):\n",
    "    obs, rew, done, info = env.step(np.asarray([0.0]))\n",
    "    print(obs, rew, done, info)\n",
    "    #env.render()"
   ]
  },
  {
   "cell_type": "code",
   "execution_count": 2,
   "metadata": {},
   "outputs": [
    {
     "name": "stdout",
     "output_type": "stream",
     "text": [
      "[ 0.97327465 -0.22964421 -0.20603668  0.96875746 -0.24801007 -0.37826984\n",
      "  0.96137551 -0.27524013 -0.56427739] -0.18425096146913664 False {}\n",
      "[ 0.95005793 -0.31207359 -0.77070749  0.93318787 -0.35938892 -1.00476268\n",
      "  0.90841126 -0.41807772 -1.27430437] -0.5058122532691404 False {}\n",
      "[ 0.87239214 -0.48880666 -1.58786266  0.820538   -0.57159198 -1.95446766\n",
      "  0.74677088 -0.66508139 -2.38316164] -1.6135955959105925 False {}\n",
      "[ 0.64352516 -0.76542496 -2.88197268  0.5023313  -0.86467524 -3.4560414\n",
      "  0.31557773 -0.94889973 -4.10454783] -4.973201597151496 False {}\n",
      "[ 0.08016818 -0.99678135 -4.81622263 -0.19664618 -0.98047452 -5.56380864\n",
      " -0.49070123 -0.87132789 -6.29916453] -14.011885329011308 False {}\n",
      "[-0.75818654 -0.65203771 -6.95266045 -0.94335855 -0.33177498 -7.44168873\n",
      " -0.99892643  0.0463249  -7.69051997] -32.45196827406415 False {}\n",
      "[-0.90932796  0.41608012 -7.65577629 -0.69934464  0.71478464 -7.3437162\n",
      " -0.42059298  0.90724944 -6.80762772] -39.6068714128152 False {}\n",
      "[-0.12739219  0.99185242 -6.12719064  0.14095479  0.99001603 -5.38330133\n",
      "  0.36484399  0.93106867 -4.6407893 ] -20.23434739231218 False {}\n",
      "[ 0.54012836  0.84158265 -3.9424878   0.67144328  0.74105595 -3.31130081\n",
      "  0.76685727  0.64181768 -2.75550885] -7.935126739200058 False {}\n",
      "[ 0.83472731  0.55066353 -2.27414559  0.88228507  0.47071548 -1.86114794\n",
      "  0.91523886  0.40291169 -1.50811133] -2.688740278387107 False {}\n"
     ]
    },
    {
     "name": "stderr",
     "output_type": "stream",
     "text": [
      "/home/postdoc/holee/.local/lib/python3.6/site-packages/gym/logger.py:30: UserWarning: \u001b[33mWARN: Box bound precision lowered by casting to float32\u001b[0m\n",
      "  warnings.warn(colorize('%s: %s'%('WARN', msg % args), 'yellow'))\n"
     ]
    }
   ],
   "source": [
    "# specify environment information\n",
    "n_repeats = 3 # step the environment this many times for each action, concatenate the pixel observations\n",
    "env = RestartablePendulumEnv(repeats=n_repeats,pixels=False)\n",
    "\n",
    "for t in range(10):\n",
    "    obs, rew, done, info = env.step(np.asarray([0.0]))\n",
    "    print(obs, rew, done, info)\n",
    "    #env.render()"
   ]
  },
  {
   "cell_type": "code",
   "execution_count": 3,
   "metadata": {},
   "outputs": [
    {
     "name": "stdout",
     "output_type": "stream",
     "text": [
      "(1, 64, 64) -4.570427224802251 False {}\n",
      "(1, 64, 64) -5.001903867325574 False {}\n",
      "(1, 64, 64) -5.651458867123816 False {}\n",
      "(1, 64, 64) -6.506487657949412 False {}\n",
      "(1, 64, 64) -7.542534893183451 False {}\n",
      "(1, 64, 64) -8.720850867649053 False {}\n",
      "(1, 64, 64) -9.989284786970128 False {}\n",
      "(1, 64, 64) -11.28744260414232 False {}\n",
      "(1, 64, 64) -10.296689320736583 False {}\n",
      "(1, 64, 64) -9.112811673025254 False {}\n",
      "(1, 64, 192) -6.90480511598658 False {}\n",
      "(1, 64, 192) -16.165647722274315 False {}\n",
      "(1, 64, 192) -33.07571700567803 False {}\n",
      "(1, 64, 192) -32.68062540288344 False {}\n",
      "(1, 64, 192) -16.909932812232018 False {}\n",
      "(1, 64, 192) -7.400919950409628 False {}\n",
      "(1, 64, 192) -4.236182227170959 False {}\n",
      "(1, 64, 192) -6.158923127095955 False {}\n",
      "(1, 64, 192) -14.307954945773464 False {}\n",
      "(1, 64, 192) -30.253616955712054 False {}\n"
     ]
    }
   ],
   "source": [
    "# specify environment information\n",
    "n_repeats = 1 # step the environment this many times for each action, concatenate the pixel observations\n",
    "env = RestartablePendulumEnv(repeats=n_repeats,pixels=True)\n",
    "\n",
    "for t in range(10):\n",
    "    obs, rew, done, info = env.step(np.asarray([0.0]))\n",
    "    print(obs.shape, rew, done, info)\n",
    "    #env.render()\n",
    "n_repeats = 3 # step the environment this many times for each action, concatenate the pixel observations\n",
    "env = RestartablePendulumEnv(repeats=n_repeats,pixels=True)\n",
    "\n",
    "for t in range(10):\n",
    "    obs, rew, done, info = env.step(np.asarray([0.0]))\n",
    "    print(obs.shape, rew, done, info)\n",
    "    #env.render()"
   ]
  },
  {
   "cell_type": "code",
   "execution_count": 4,
   "metadata": {},
   "outputs": [
    {
     "data": {
      "text/plain": [
       "(1, 64, 192)"
      ]
     },
     "execution_count": 4,
     "metadata": {},
     "output_type": "execute_result"
    }
   ],
   "source": [
    "obs.shape"
   ]
  },
  {
   "cell_type": "code",
   "execution_count": 5,
   "metadata": {},
   "outputs": [
    {
     "data": {
      "text/plain": [
       "array([[0, 1],\n",
       "       [0, 1]])"
      ]
     },
     "execution_count": 5,
     "metadata": {},
     "output_type": "execute_result"
    }
   ],
   "source": [
    "a = np.asarray([0,1])\n",
    "#np.concatenate([a,a],axis=1)\n",
    "np.vstack([a,a])"
   ]
  },
  {
   "cell_type": "code",
   "execution_count": 9,
   "metadata": {},
   "outputs": [
    {
     "name": "stderr",
     "output_type": "stream",
     "text": [
      "/home/postdoc/holee/.local/lib/python3.6/site-packages/gym/logger.py:30: UserWarning: \u001b[33mWARN: Box bound precision lowered by casting to float32\u001b[0m\n",
      "  warnings.warn(colorize('%s: %s'%('WARN', msg % args), 'yellow'))\n"
     ]
    },
    {
     "data": {
      "text/plain": [
       "([tensor([[-0.9105, -0.4135,  3.4635, -0.8343, -0.5514,  3.1534, -0.7512, -0.6601,\n",
       "            2.7399],\n",
       "          [ 0.2583, -0.9661,  1.7207,  0.3060, -0.9520,  0.9962,  0.3194, -0.9476,\n",
       "            0.2822]]),\n",
       "  tensor([[-0.6684, -0.7438,  2.3563, -0.5944, -0.8042,  1.9099, -0.5359, -0.8443,\n",
       "            1.4183],\n",
       "          [ 0.2851, -0.9585, -0.7209,  0.2011, -0.9796, -1.7322,  0.0645, -0.9979,\n",
       "           -2.7593]]),\n",
       "  tensor([[-0.4992, -0.8665,  0.8575, -0.4870, -0.8734,  0.2800, -0.5002, -0.8659,\n",
       "           -0.3026],\n",
       "          [-0.1215, -0.9926, -3.7261, -0.3488, -0.9372, -4.6888, -0.5946, -0.8040,\n",
       "           -5.6100]]),\n",
       "  tensor([[-0.5435, -0.8394, -1.0141, -0.6130, -0.7901, -1.7058, -0.7018, -0.7124,\n",
       "           -2.3605],\n",
       "          [-0.8057, -0.5924, -6.0013, -0.9485, -0.3167, -6.2339, -1.0000, -0.0093,\n",
       "           -6.2597]]),\n",
       "  tensor([[-0.7889, -0.6145, -2.6247, -0.8674, -0.4977, -2.8155, -0.9305, -0.3663,\n",
       "           -2.9187],\n",
       "          [-0.9562,  0.2929, -6.1307, -0.8332,  0.5530, -5.7751, -0.6621,  0.7494,\n",
       "           -5.2244]]),\n",
       "  tensor([[-0.9785, -0.2063, -3.3433, -0.9997, -0.0254, -3.6479, -0.9863,  0.1647,\n",
       "           -3.8169],\n",
       "          [-0.4786,  0.8780, -4.4909, -0.3108,  0.9505, -3.6609, -0.1763,  0.9843,\n",
       "           -2.7765]]),\n",
       "  tensor([[-0.9425,  0.3342, -3.5063, -0.8804,  0.4743, -3.0685, -0.8136,  0.5814,\n",
       "           -2.5257],\n",
       "          [-0.0635,  0.9980, -2.2733,  0.0245,  0.9997, -1.7598,  0.0866,  0.9962,\n",
       "           -1.2450]]),\n",
       "  tensor([[-0.7523,  0.6589, -1.9769, -0.7054,  0.7088, -1.3700, -0.6792,  0.7339,\n",
       "           -0.7256],\n",
       "          [ 0.1166,  0.9932, -0.6032,  0.1148,  0.9934,  0.0364,  0.0812,  0.9967,\n",
       "            0.6761]]),\n",
       "  tensor([[-0.6621,  0.7494, -0.4611, -0.6552,  0.7555, -0.1850, -0.6588,  0.7523,\n",
       "            0.0957],\n",
       "          [ 0.0167,  0.9999,  1.2910, -0.0786,  0.9969,  1.9084, -0.2035,  0.9791,\n",
       "            2.5235]]),\n",
       "  tensor([[-0.6843,  0.7292,  0.6875, -0.7289,  0.6846,  1.2620, -0.7876,  0.6162,\n",
       "            1.8030],\n",
       "          [-0.3575,  0.9339,  3.2134, -0.5304,  0.8478,  3.8696, -0.7048,  0.7094,\n",
       "            4.4611]]),\n",
       "  tensor([[-0.8516,  0.5242,  2.2427, -0.9126,  0.4088,  2.6134, -0.9621,  0.2728,\n",
       "            2.8975],\n",
       "          [-0.8508,  0.5254,  4.7100, -0.9517,  0.3071,  4.8210, -0.9973,  0.0737,\n",
       "            4.7682]])],\n",
       " [tensor([[ 0.3718],\n",
       "          [-0.9747]]), tensor([[ 0.2413],\n",
       "          [-0.7277]]), tensor([[-0.2070],\n",
       "          [ 0.7058]]), tensor([[0.9002],\n",
       "          [0.4532]]), tensor([[-0.4996],\n",
       "          [ 0.5716]]), tensor([[ 0.6237],\n",
       "          [-0.7834]]), tensor([[ 0.3759],\n",
       "          [-0.3511]]), tensor([[-0.9531],\n",
       "          [-0.4419]]), tensor([[ 0.0918],\n",
       "          [-0.1478]]), tensor([[-0.0750],\n",
       "          [-0.9437]])],\n",
       " [tensor([-17.7067,  -5.4382]),\n",
       "  tensor([-13.5545, -13.2018]),\n",
       "  tensor([-14.3692, -29.7506]),\n",
       "  tensor([-20.5825, -35.4474]),\n",
       "  tensor([-29.2751, -19.1989]),\n",
       "  tensor([-27.3438,  -9.7223]),\n",
       "  tensor([-18.9822,  -6.6285]),\n",
       "  tensor([-15.9459,  -7.9337]),\n",
       "  tensor([-16.5544, -14.6057]),\n",
       "  tensor([-21.7573, -26.7849])])"
      ]
     },
     "execution_count": 9,
     "metadata": {},
     "output_type": "execute_result"
    }
   ],
   "source": [
    "# specify environment information\n",
    "n_repeats = 3 # step the environment this many times for each action, concatenate the pixel observations\n",
    "env = RestartablePendulumEnv(repeats=n_repeats,pixels=False)\n",
    "\n",
    "deterministic_args = None \n",
    "\n",
    "traj_sampler = srt.SimpleTrajectorySampler(env,\n",
    "                                     srt.sample_pendulum_action_batch,\n",
    "                                     srt.sample_pendulum_state_batch_old,\n",
    "                                     device=torch.device(\"cpu\"),\n",
    "                                     deterministic=False,\n",
    "                                     deterministic_args=deterministic_args,\n",
    "                                          output_rewards=True)\n",
    "\n",
    "#batch_size, T\n",
    "traj_sampler.obs_shape\n",
    "#traj_sampler.trajectories\n",
    "traj_sampler.get_new_batch(2,10)"
   ]
  },
  {
   "cell_type": "code",
   "execution_count": 7,
   "metadata": {},
   "outputs": [
    {
     "data": {
      "text/plain": [
       "(9,)"
      ]
     },
     "execution_count": 7,
     "metadata": {},
     "output_type": "execute_result"
    }
   ],
   "source": [
    "env.observation_space.shape"
   ]
  },
  {
   "cell_type": "code",
   "execution_count": 8,
   "metadata": {},
   "outputs": [
    {
     "data": {
      "text/plain": [
       "(1, 2)"
      ]
     },
     "execution_count": 8,
     "metadata": {},
     "output_type": "execute_result"
    }
   ],
   "source": [
    "(1,2,3)[0:2]"
   ]
  },
  {
   "cell_type": "code",
   "execution_count": 5,
   "metadata": {},
   "outputs": [
    {
     "name": "stdout",
     "output_type": "stream",
     "text": [
      "[ 1.00000000e+00 -4.59242550e-18 -9.18485099e-17] 0.0 False {}\n",
      "[ 1.00000000e+00 -1.37772765e-17 -1.83697020e-16] -8.436148777472954e-34 False {}\n",
      "[ 1.0000000e+00 -2.7554553e-17 -2.7554553e-16] -3.374459510989182e-33 False {}\n",
      "[ 1.0000000e+00 -4.5924255e-17 -3.6739404e-16] -7.592533899725658e-33 False {}\n",
      "[ 1.00000000e+00 -6.88863825e-17 -4.59242550e-16] -1.3497838043956727e-32 False {}\n",
      "[ 1.00000000e+00 -9.64409354e-17 -5.51091060e-16] -2.1090371943682386e-32 False {}\n",
      "[ 1.00000000e+00 -1.28587914e-16 -6.42939570e-16] -3.0370135598902647e-32 False {}\n",
      "[ 1.00000000e+00 -1.65327318e-16 -7.34788079e-16] -4.133712900961749e-32 False {}\n",
      "[ 1.00000000e+00 -2.06659147e-16 -8.26636589e-16] -5.399135217582693e-32 False {}\n",
      "[ 1.00000000e+00 -2.52583402e-16 -9.18485099e-16] -6.833280509753097e-32 False {}\n"
     ]
    }
   ],
   "source": [
    "import sys\n",
    "from lib.restartable_pendulum import RestartablePendulumEnv\n",
    "from lib import state_rep_torch as srt\n",
    "import gym\n",
    "import numpy as np\n",
    "from matplotlib import pyplot as plt\n",
    "import torch\n",
    "from lib import utils\n",
    "from lib import encoder_wrappers as ew\n",
    "\n",
    "# specify environment information\n",
    "n_repeats = 1 # step the environment this many times for each action, concatenate the pixel observations\n",
    "env = RestartablePendulumEnv(repeats=n_repeats,pixels=False)\n",
    "env.reset(state = [0,0])\n",
    "\n",
    "for t in range(10):\n",
    "    obs, rew, done, info = env.step(np.asarray([0.0]))\n",
    "    print(obs, rew, done, info)\n",
    "    #env.render()"
   ]
  },
  {
   "cell_type": "code",
   "execution_count": null,
   "metadata": {},
   "outputs": [],
   "source": []
  }
 ],
 "metadata": {
  "kernelspec": {
   "display_name": "Python 3",
   "language": "python",
   "name": "python3"
  },
  "language_info": {
   "codemirror_mode": {
    "name": "ipython",
    "version": 3
   },
   "file_extension": ".py",
   "mimetype": "text/x-python",
   "name": "python",
   "nbconvert_exporter": "python",
   "pygments_lexer": "ipython3",
   "version": "3.8.5"
  }
 },
 "nbformat": 4,
 "nbformat_minor": 4
}
