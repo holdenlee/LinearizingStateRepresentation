{
 "cells": [
  {
   "cell_type": "markdown",
   "metadata": {},
   "source": [
    "# Forward (Pixels)"
   ]
  },
  {
   "cell_type": "code",
   "execution_count": 1,
   "metadata": {},
   "outputs": [
    {
     "name": "stderr",
     "output_type": "stream",
     "text": [
      "/home/holdenlee/.local/lib/python3.8/site-packages/torch/autograd/__init__.py:130: UserWarning: CUDA initialization: Found no NVIDIA driver on your system. Please check that you have an NVIDIA GPU and installed a driver from http://www.nvidia.com/Download/index.aspx (Triggered internally at  /pytorch/c10/cuda/CUDAFunctions.cpp:100.)\n",
      "  Variable._execution_engine.run_backward(\n"
     ]
    },
    {
     "name": "stdout",
     "output_type": "stream",
     "text": [
      "Epoch Completion: 100.000%, Loss: 0.000\r"
     ]
    }
   ],
   "source": [
    "import sys\n",
    "from lib.restartable_pendulum import RestartablePendulumEnv\n",
    "from lib import state_rep_torch as srt\n",
    "import gym\n",
    "import numpy as np\n",
    "from matplotlib import pyplot as plt\n",
    "import torch\n",
    "from lib import utils\n",
    "from lib import encoder_wrappers as ew\n",
    "\n",
    "# specify environment information\n",
    "n_repeats = 3 # step the environment this many times for each action, concatenate the pixel observations\n",
    "env = RestartablePendulumEnv(repeats=n_repeats,pixels=True)\n",
    "\n",
    "\n",
    "#nonlin = torch.nn.ELU()\n",
    "nonlin = torch.nn.functional.relu\n",
    "layers = [50, 10, 5] # architecture of encoder after the 2 conv layers\n",
    "save_dir = \"./\"\n",
    "n_episodes = 1000 # total batches to draw\n",
    "batch_size = 25\n",
    "learning_rate = .001\n",
    "save_every = int(n_episodes/4) # save the model every so often\n",
    "\n",
    "encnet = srt.ConvEncoderNet(layers,env.observation_space.shape[1:],sigma=nonlin)\n",
    "mixnet = srt.SoftmaxNet([5,6])\n",
    "\n",
    "# use the following commented out lines for PredictorNet (I changed deterministic sampling though...\n",
    "#prednet = srt.PredictorNet(encnet,T,layers[-1],1)\n",
    "#deterministic_args = (samples[i], batch_size, 35, method, n_repeats,T) \n",
    "\n",
    "#prednet = srt.ForwardNet(encnet,layers[-1],1)\n",
    "#mixture of 5\n",
    "prednet = srt.MixtureBNForwardNet(encnet,layers[-1],1,6,mixnet)\n",
    "deterministic_args = None \n",
    "\n",
    "traj_sampler = srt.SimpleTrajectorySampler(env,\n",
    "                                     srt.sample_pendulum_action_batch,\n",
    "                                     srt.sample_pendulum_state_batch_old,\n",
    "                                     device=torch.device(\"cpu\"),\n",
    "                                     deterministic=False,\n",
    "                                     deterministic_args=deterministic_args)\n",
    "\n",
    "net, losses = srt.train_encoder(prednet,traj_sampler,n_episodes,\n",
    "                                batch_size=batch_size,\n",
    "                                track_loss_every=int(n_episodes/100),\n",
    "                                lr=learning_rate,\n",
    "                                save_every=save_every,\n",
    "                                save_path=save_dir+\"/soft_bn_fwd\")\n",
    "\n",
    "torch.save(net,save_dir+\"/soft_bn_fwd.net\")\n",
    "\n",
    "\n",
    "\n",
    "# what follows is code to visualize the representations\n",
    "# d = 5 # must match the final entry in layers\n",
    "# n_samps = 500\n",
    "# env = ew.TorchEncoderWrapper(env,net.encoder,np.eye(d))\n",
    "# X = np.empty((n_samps,d))\n",
    "# for i,ang in enumerate(np.linspace(0,2*np.pi,n_samps)): # go through the angles from 0 to 2pi\n",
    "#     X[i,:] = env.reset(state=[ang,0])\n",
    "# utils.visualize_trajectory(X)\n"
   ]
  },
  {
   "cell_type": "markdown",
   "metadata": {},
   "source": [
    "# Forward + Reward (Pixels)"
   ]
  },
  {
   "cell_type": "code",
   "execution_count": 2,
   "metadata": {},
   "outputs": [
    {
     "name": "stdout",
     "output_type": "stream",
     "text": [
      "Epoch Completion: 100.000%, Loss: 14.499\r"
     ]
    }
   ],
   "source": [
    "import sys\n",
    "from lib.restartable_pendulum import RestartablePendulumEnv\n",
    "from lib import state_rep_torch as srt\n",
    "import gym\n",
    "import numpy as np\n",
    "from matplotlib import pyplot as plt\n",
    "import torch\n",
    "from lib import utils\n",
    "from lib import encoder_wrappers as ew\n",
    "\n",
    "# specify environment information\n",
    "n_repeats = 2 # step the environment this many times for each action, concatenate the pixel observations\n",
    "env = RestartablePendulumEnv(repeats=n_repeats,pixels=True)\n",
    "\n",
    "\n",
    "#nonlin = torch.nn.ELU()\n",
    "nonlin = torch.nn.functional.relu\n",
    "layers = [50, 10, 3] # architecture of encoder after the 2 conv layers\n",
    "save_dir = \"./\"\n",
    "n_episodes = 1000 # total batches to draw\n",
    "batch_size = 25\n",
    "learning_rate = .001\n",
    "save_every = int(n_episodes/2) # save the model every so often\n",
    "\n",
    "encnet = srt.ConvEncoderNet(layers,env.observation_space.shape[1:],sigma=nonlin)\n",
    "mixnet = srt.SoftmaxNet([3,6])\n",
    "\n",
    "# use the following commented out lines for PredictorNet (I changed deterministic sampling though...\n",
    "#prednet = srt.PredictorNet(encnet,T,layers[-1],1)\n",
    "#deterministic_args = (samples[i], batch_size, 35, method, n_repeats,T) \n",
    "\n",
    "# 2*state dim+action dim\n",
    "rnet = srt.EncoderNet([2*3+1, 50, 10, 1])\n",
    "\n",
    "#prednet = srt.ForwardNet(encnet,layers[-1],1)\n",
    "#mixture of 5\n",
    "prednet = srt.MixtureBNForwardNet(encnet,layers[-1],1,6,mixnet,fit_reward=True,mu=1, r_encoder = rnet,alpha=1)\n",
    "deterministic_args = None \n",
    "# use the following commented out lines for PredictorNet (I changed deterministic sampling though...\n",
    "#prednet = srt.PredictorNet(encnet,T,layers[-1],1)\n",
    "#deterministic_args = (samples[i], batch_size, 35, method, n_repeats,T) \n",
    "\n",
    "traj_sampler = srt.SimpleTrajectorySampler(env,\n",
    "                                     srt.sample_pendulum_action_batch_zero,\n",
    "                                     #srt.sample_pendulum_action_batch,\n",
    "                                     srt.sample_pendulum_state_batch_old,\n",
    "                                     device=torch.device(\"cpu\"),\n",
    "                                     deterministic=False,\n",
    "                                     deterministic_args=deterministic_args,\n",
    "                                          output_rewards=True)\n",
    "\n",
    "net, losses = srt.train_encoder(prednet,traj_sampler,n_episodes,\n",
    "                                batch_size=batch_size,\n",
    "                                track_loss_every=int(n_episodes/100),\n",
    "                                lr=learning_rate,\n",
    "                                save_every=save_every,\n",
    "                                save_path=save_dir+\"/soft_bn_fwd_rew\")\n",
    "\n",
    "torch.save(net,save_dir+\"/soft_bn_fwd_rew.net\")\n",
    "\n",
    "# what follows is code to visualize the representations\n",
    "# = 5 # must match the final entry in layers\n",
    "#_samps = 500\n",
    "#nv = ew.TorchEncoderWrapper(env,net.encoder,np.eye(d))\n",
    "# = np.empty((n_samps,d))\n",
    "#or i,ang in enumerate(np.linspace(0,2*np.pi,n_samps)): # go through the angles from 0 to 2pi\n",
    "#   X[i,:] = env.reset(state=[ang,0])\n",
    "#tils.visualize_trajectory(X)\n"
   ]
  },
  {
   "cell_type": "markdown",
   "metadata": {},
   "source": [
    "# Rewards (only)"
   ]
  },
  {
   "cell_type": "code",
   "execution_count": 4,
   "metadata": {},
   "outputs": [
    {
     "name": "stdout",
     "output_type": "stream",
     "text": [
      "Epoch Completion: 100.000%, Loss: 4.519\r"
     ]
    }
   ],
   "source": [
    "import sys\n",
    "from lib.restartable_pendulum import RestartablePendulumEnv\n",
    "from lib import state_rep_torch as srt\n",
    "import gym\n",
    "import numpy as np\n",
    "from matplotlib import pyplot as plt\n",
    "import torch\n",
    "from lib import utils\n",
    "from lib import encoder_wrappers as ew\n",
    "\n",
    "# specify environment information\n",
    "n_repeats = 3 # step the environment this many times for each action, concatenate the pixel observations\n",
    "env = RestartablePendulumEnv(repeats=n_repeats,pixels=True)\n",
    "\n",
    "\n",
    "#nonlin = torch.nn.ELU()\n",
    "nonlin = torch.nn.functional.relu\n",
    "layers = [50, 10, 5] # architecture of encoder after the 2 conv layers\n",
    "save_dir = \"./\"\n",
    "n_episodes = 1000 # total batches to draw\n",
    "batch_size = 25\n",
    "learning_rate = .001\n",
    "save_every = int(n_episodes/2) # save the model every so often\n",
    "\n",
    "encnet = srt.ConvEncoderNet(layers,env.observation_space.shape[1:],sigma=nonlin)\n",
    "\n",
    "# use the following commented out lines for PredictorNet (I changed deterministic sampling though...\n",
    "#prednet = srt.PredictorNet(encnet,T,layers[-1],1)\n",
    "#deterministic_args = (samples[i], batch_size, 35, method, n_repeats,T) \n",
    "\n",
    "# 2*state dim+action dim\n",
    "rnet = srt.EncoderNet([2*5+1, 50, 10, 1])\n",
    "\n",
    "#prednet = srt.ForwardNet(encnet,layers[-1],1)\n",
    "prednet = srt.PiecewiseForwardNet(encnet,layers[-1],1,2,fit_reward=True,mu=1, r_encoder = rnet,alpha=1)\n",
    "deterministic_args = None \n",
    "\n",
    "\n",
    "\n",
    "traj_sampler = srt.SimpleTrajectorySampler(env,\n",
    "                                     srt.sample_pendulum_action_batch,\n",
    "                                     srt.sample_pendulum_state_batch_old,\n",
    "                                     device=torch.device(\"cpu\"),\n",
    "                                     deterministic=False,\n",
    "                                     deterministic_args=deterministic_args,\n",
    "                                          output_rewards=True)\n",
    "\n",
    "net, losses = srt.train_encoder(prednet,traj_sampler,n_episodes,\n",
    "                                batch_size=batch_size,\n",
    "                                track_loss_every=int(n_episodes/100),\n",
    "                                lr=learning_rate,\n",
    "                                save_every=save_every,\n",
    "                                save_path=save_dir+\"/rew\")\n",
    "\n",
    "torch.save(net,save_dir+\"/rew.net\")\n",
    "\n",
    "# what follows is code to visualize the representations\n",
    "# = 5 # must match the final entry in layers\n",
    "#_samps = 500\n",
    "#nv = ew.TorchEncoderWrapper(env,net.encoder,np.eye(d))\n",
    "# = np.empty((n_samps,d))\n",
    "#or i,ang in enumerate(np.linspace(0,2*np.pi,n_samps)): # go through the angles from 0 to 2pi\n",
    "#   X[i,:] = env.reset(state=[ang,0])\n",
    "#tils.visualize_trajectory(X)\n"
   ]
  },
  {
   "cell_type": "code",
   "execution_count": 7,
   "metadata": {},
   "outputs": [
    {
     "data": {
      "text/plain": [
       "array([[0.93375972],\n",
       "       [0.56290003],\n",
       "       [0.04495128],\n",
       "       [0.53322087],\n",
       "       [0.83189779],\n",
       "       [0.66205521],\n",
       "       [0.7948909 ],\n",
       "       [0.90649048],\n",
       "       [0.65113601],\n",
       "       [0.80073211],\n",
       "       [0.84033081],\n",
       "       [0.64793703],\n",
       "       [0.57414576],\n",
       "       [0.75933018],\n",
       "       [0.05641542],\n",
       "       [0.07802291],\n",
       "       [0.24066394],\n",
       "       [0.34168152],\n",
       "       [0.40466932],\n",
       "       [0.1420676 ],\n",
       "       [0.55996915],\n",
       "       [0.10456193],\n",
       "       [0.81939724],\n",
       "       [0.10841745],\n",
       "       [0.56500364]])"
      ]
     },
     "execution_count": 7,
     "metadata": {},
     "output_type": "execute_result"
    }
   ],
   "source": [
    "np.random.rand(batch_size,1)"
   ]
  },
  {
   "cell_type": "code",
   "execution_count": 2,
   "metadata": {},
   "outputs": [
    {
     "data": {
      "text/plain": [
       "array([[ 1.73645251, -1.81829811],\n",
       "       [ 0.35448384, -5.79775527],\n",
       "       [-0.80410777, -2.44824697],\n",
       "       [-0.38296547, -2.05832699],\n",
       "       [-3.1215185 ,  7.00613093]])"
      ]
     },
     "execution_count": 2,
     "metadata": {},
     "output_type": "execute_result"
    }
   ],
   "source": [
    "srt.sample_pendulum_state_batch_old(5)"
   ]
  },
  {
   "cell_type": "code",
   "execution_count": null,
   "metadata": {},
   "outputs": [],
   "source": []
  }
 ],
 "metadata": {
  "kernelspec": {
   "display_name": "Python 3",
   "language": "python",
   "name": "python3"
  },
  "language_info": {
   "codemirror_mode": {
    "name": "ipython",
    "version": 3
   },
   "file_extension": ".py",
   "mimetype": "text/x-python",
   "name": "python",
   "nbconvert_exporter": "python",
   "pygments_lexer": "ipython3",
   "version": "3.8.5"
  }
 },
 "nbformat": 4,
 "nbformat_minor": 4
}
