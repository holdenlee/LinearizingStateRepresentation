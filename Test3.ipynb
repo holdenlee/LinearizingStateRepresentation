{
 "cells": [
  {
   "cell_type": "markdown",
   "metadata": {},
   "source": [
    "# Forward (Pixels)"
   ]
  },
  {
   "cell_type": "code",
   "execution_count": 2,
   "metadata": {},
   "outputs": [
    {
     "name": "stdout",
     "output_type": "stream",
     "text": [
      "Epoch Completion: 100.000%, Loss: 0.066\r"
     ]
    }
   ],
   "source": [
    "import sys\n",
    "from lib.restartable_pendulum import RestartablePendulumEnv\n",
    "from lib import state_rep_torch as srt\n",
    "import gym\n",
    "import numpy as np\n",
    "from matplotlib import pyplot as plt\n",
    "import torch\n",
    "from lib import utils\n",
    "from lib import encoder_wrappers as ew\n",
    "\n",
    "# specify environment information\n",
    "n_repeats = 3 # step the environment this many times for each action, concatenate the pixel observations\n",
    "env = RestartablePendulumEnv(repeats=n_repeats,pixels=True)\n",
    "\n",
    "\n",
    "#nonlin = torch.nn.ELU()\n",
    "nonlin = torch.nn.functional.relu\n",
    "layers = [50, 10, 5] # architecture of encoder after the 2 conv layers\n",
    "save_dir = \"./\"\n",
    "n_episodes = 1000 # total batches to draw\n",
    "batch_size = 25\n",
    "learning_rate = .001\n",
    "save_every = int(n_episodes/4) # save the model every so often\n",
    "\n",
    "encnet = srt.ConvEncoderNet(layers,env.observation_space.shape[1:],sigma=nonlin)\n",
    "\n",
    "# use the following commented out lines for PredictorNet (I changed deterministic sampling though...\n",
    "#prednet = srt.PredictorNet(encnet,T,layers[-1],1)\n",
    "#deterministic_args = (samples[i], batch_size, 35, method, n_repeats,T) \n",
    "\n",
    "#prednet = srt.ForwardNet(encnet,layers[-1],1)\n",
    "prednet = srt.PiecewiseForwardNet(encnet,layers[-1],1,2)\n",
    "deterministic_args = None \n",
    "\n",
    "traj_sampler = srt.SimpleTrajectorySampler(env,\n",
    "                                     srt.sample_pendulum_action_batch,\n",
    "                                     srt.sample_pendulum_state_batch_old,\n",
    "                                     device=torch.device(\"cpu\"),\n",
    "                                     deterministic=False,\n",
    "                                     deterministic_args=deterministic_args)\n",
    "\n",
    "net, losses = srt.train_encoder(prednet,traj_sampler,n_episodes,\n",
    "                                batch_size=batch_size,\n",
    "                                track_loss_every=int(n_episodes/100),\n",
    "                                lr=learning_rate,\n",
    "                                save_every=save_every,\n",
    "                                save_path=save_dir+\"/fwd\")\n",
    "\n",
    "torch.save(net,save_dir+\"/fwd.net\")\n",
    "\n",
    "\n",
    "\n",
    "# what follows is code to visualize the representations\n",
    "# d = 5 # must match the final entry in layers\n",
    "# n_samps = 500\n",
    "# env = ew.TorchEncoderWrapper(env,net.encoder,np.eye(d))\n",
    "# X = np.empty((n_samps,d))\n",
    "# for i,ang in enumerate(np.linspace(0,2*np.pi,n_samps)): # go through the angles from 0 to 2pi\n",
    "#     X[i,:] = env.reset(state=[ang,0])\n",
    "# utils.visualize_trajectory(X)\n"
   ]
  },
  {
   "cell_type": "markdown",
   "metadata": {},
   "source": [
    "# Forward + Reward (Pixels)"
   ]
  },
  {
   "cell_type": "code",
   "execution_count": 5,
   "metadata": {},
   "outputs": [
    {
     "name": "stdout",
     "output_type": "stream",
     "text": [
      "Epoch Completion: 100.000%, Loss: 2.490\r"
     ]
    }
   ],
   "source": [
    "import sys\n",
    "from lib.restartable_pendulum import RestartablePendulumEnv\n",
    "from lib import state_rep_torch as srt\n",
    "import gym\n",
    "import numpy as np\n",
    "from matplotlib import pyplot as plt\n",
    "import torch\n",
    "from lib import utils\n",
    "from lib import encoder_wrappers as ew\n",
    "\n",
    "# specify environment information\n",
    "n_repeats = 3 # step the environment this many times for each action, concatenate the pixel observations\n",
    "env = RestartablePendulumEnv(repeats=n_repeats,pixels=True)\n",
    "\n",
    "\n",
    "#nonlin = torch.nn.ELU()\n",
    "nonlin = torch.nn.functional.relu\n",
    "layers = [50, 10, 5] # architecture of encoder after the 2 conv layers\n",
    "save_dir = \"./\"\n",
    "n_episodes = 500 # total batches to draw\n",
    "batch_size = 25\n",
    "learning_rate = .001\n",
    "save_every = int(n_episodes/2) # save the model every so often\n",
    "\n",
    "encnet = srt.ConvEncoderNet(layers,env.observation_space.shape[1:],sigma=nonlin)\n",
    "\n",
    "# use the following commented out lines for PredictorNet (I changed deterministic sampling though...\n",
    "#prednet = srt.PredictorNet(encnet,T,layers[-1],1)\n",
    "#deterministic_args = (samples[i], batch_size, 35, method, n_repeats,T) \n",
    "\n",
    "# 2*state dim+action dim\n",
    "rnet = srt.EncoderNet([2*5+1, 50, 10, 1])\n",
    "\n",
    "#prednet = srt.ForwardNet(encnet,layers[-1],1)\n",
    "prednet = srt.PiecewiseForwardNet(encnet,layers[-1],1,2,fit_reward=True,mu=1, r_encoder = rnet,alpha=1)\n",
    "deterministic_args = None \n",
    "\n",
    "\n",
    "\n",
    "traj_sampler = srt.SimpleTrajectorySampler(env,\n",
    "                                     srt.sample_pendulum_action_batch,\n",
    "                                     srt.sample_pendulum_state_batch_old,\n",
    "                                     device=torch.device(\"cpu\"),\n",
    "                                     deterministic=False,\n",
    "                                     deterministic_args=deterministic_args,\n",
    "                                          output_rewards=True)\n",
    "\n",
    "net, losses = srt.train_encoder(prednet,traj_sampler,n_episodes,\n",
    "                                batch_size=batch_size,\n",
    "                                track_loss_every=int(n_episodes/100),\n",
    "                                lr=learning_rate,\n",
    "                                save_every=save_every,\n",
    "                                save_path=save_dir+\"/fwd_rew\")\n",
    "\n",
    "torch.save(net,save_dir+\"/fwd_rew.net\")\n",
    "\n",
    "# what follows is code to visualize the representations\n",
    "# = 5 # must match the final entry in layers\n",
    "#_samps = 500\n",
    "#nv = ew.TorchEncoderWrapper(env,net.encoder,np.eye(d))\n",
    "# = np.empty((n_samps,d))\n",
    "#or i,ang in enumerate(np.linspace(0,2*np.pi,n_samps)): # go through the angles from 0 to 2pi\n",
    "#   X[i,:] = env.reset(state=[ang,0])\n",
    "#tils.visualize_trajectory(X)\n"
   ]
  },
  {
   "cell_type": "markdown",
   "metadata": {},
   "source": [
    "# Rewards (only)"
   ]
  },
  {
   "cell_type": "code",
   "execution_count": 4,
   "metadata": {},
   "outputs": [
    {
     "name": "stdout",
     "output_type": "stream",
     "text": [
      "Epoch Completion: 100.000%, Loss: 4.519\r"
     ]
    }
   ],
   "source": [
    "import sys\n",
    "from lib.restartable_pendulum import RestartablePendulumEnv\n",
    "from lib import state_rep_torch as srt\n",
    "import gym\n",
    "import numpy as np\n",
    "from matplotlib import pyplot as plt\n",
    "import torch\n",
    "from lib import utils\n",
    "from lib import encoder_wrappers as ew\n",
    "\n",
    "# specify environment information\n",
    "n_repeats = 3 # step the environment this many times for each action, concatenate the pixel observations\n",
    "env = RestartablePendulumEnv(repeats=n_repeats,pixels=True)\n",
    "\n",
    "\n",
    "#nonlin = torch.nn.ELU()\n",
    "nonlin = torch.nn.functional.relu\n",
    "layers = [50, 10, 5] # architecture of encoder after the 2 conv layers\n",
    "save_dir = \"./\"\n",
    "n_episodes = 1000 # total batches to draw\n",
    "batch_size = 25\n",
    "learning_rate = .001\n",
    "save_every = int(n_episodes/2) # save the model every so often\n",
    "\n",
    "encnet = srt.ConvEncoderNet(layers,env.observation_space.shape[1:],sigma=nonlin)\n",
    "\n",
    "# use the following commented out lines for PredictorNet (I changed deterministic sampling though...\n",
    "#prednet = srt.PredictorNet(encnet,T,layers[-1],1)\n",
    "#deterministic_args = (samples[i], batch_size, 35, method, n_repeats,T) \n",
    "\n",
    "# 2*state dim+action dim\n",
    "rnet = srt.EncoderNet([2*5+1, 50, 10, 1])\n",
    "\n",
    "#prednet = srt.ForwardNet(encnet,layers[-1],1)\n",
    "prednet = srt.PiecewiseForwardNet(encnet,layers[-1],1,2,fit_reward=True,mu=1, r_encoder = rnet,alpha=1)\n",
    "deterministic_args = None \n",
    "\n",
    "\n",
    "\n",
    "traj_sampler = srt.SimpleTrajectorySampler(env,\n",
    "                                     srt.sample_pendulum_action_batch,\n",
    "                                     srt.sample_pendulum_state_batch_old,\n",
    "                                     device=torch.device(\"cpu\"),\n",
    "                                     deterministic=False,\n",
    "                                     deterministic_args=deterministic_args,\n",
    "                                          output_rewards=True)\n",
    "\n",
    "net, losses = srt.train_encoder(prednet,traj_sampler,n_episodes,\n",
    "                                batch_size=batch_size,\n",
    "                                track_loss_every=int(n_episodes/100),\n",
    "                                lr=learning_rate,\n",
    "                                save_every=save_every,\n",
    "                                save_path=save_dir+\"/rew\")\n",
    "\n",
    "torch.save(net,save_dir+\"/rew.net\")\n",
    "\n",
    "# what follows is code to visualize the representations\n",
    "# = 5 # must match the final entry in layers\n",
    "#_samps = 500\n",
    "#nv = ew.TorchEncoderWrapper(env,net.encoder,np.eye(d))\n",
    "# = np.empty((n_samps,d))\n",
    "#or i,ang in enumerate(np.linspace(0,2*np.pi,n_samps)): # go through the angles from 0 to 2pi\n",
    "#   X[i,:] = env.reset(state=[ang,0])\n",
    "#tils.visualize_trajectory(X)\n"
   ]
  },
  {
   "cell_type": "code",
   "execution_count": null,
   "metadata": {
    "collapsed": true,
    "jupyter": {
     "outputs_hidden": true
    }
   },
   "outputs": [],
   "source": []
  }
 ],
 "metadata": {
  "kernelspec": {
   "display_name": "Python 3",
   "language": "python",
   "name": "python3"
  },
  "language_info": {
   "codemirror_mode": {
    "name": "ipython",
    "version": 3
   },
   "file_extension": ".py",
   "mimetype": "text/x-python",
   "name": "python",
   "nbconvert_exporter": "python",
   "pygments_lexer": "ipython3",
   "version": "3.8.5"
  }
 },
 "nbformat": 4,
 "nbformat_minor": 4
}
